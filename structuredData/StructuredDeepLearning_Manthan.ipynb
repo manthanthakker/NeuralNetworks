{
 "cells": [
  {
   "cell_type": "markdown",
   "metadata": {},
   "source": [
    "## Structured Data Learning Template for deep Neural Networks Using fast AI library"
   ]
  },
  {
   "cell_type": "code",
   "execution_count": 1,
   "metadata": {},
   "outputs": [],
   "source": [
    "%matplotlib inline\n",
    "%reload_ext autoreload\n",
    "%autoreload 2"
   ]
  },
  {
   "cell_type": "code",
   "execution_count": 2,
   "metadata": {},
   "outputs": [],
   "source": [
    "from fastai.structured import *\n",
    "from fastai.column_data import *\n",
    "from sklearn.datasets import load_boston\n",
    "\n",
    "np.set_printoptions(threshold=50, edgeitems=20)\n",
    "\n",
    "PATH='data/manthan/'"
   ]
  },
  {
   "cell_type": "markdown",
   "metadata": {},
   "source": [
    "## Create datasets"
   ]
  },
  {
   "cell_type": "code",
   "execution_count": 100,
   "metadata": {},
   "outputs": [
    {
     "name": "stdout",
     "output_type": "stream",
     "text": [
      "13\n"
     ]
    }
   ],
   "source": [
    "data= load_boston()\n",
    "print(len(data.feature_names))"
   ]
  },
  {
   "cell_type": "markdown",
   "metadata": {},
   "source": [
    "## Data Cleaning / Feature Engineering"
   ]
  },
  {
   "cell_type": "markdown",
   "metadata": {},
   "source": [
    "## Durations"
   ]
  },
  {
   "cell_type": "markdown",
   "metadata": {},
   "source": [
    "## Create features\n"
   ]
  },
  {
   "cell_type": "markdown",
   "metadata": {},
   "source": [
    "## Linear Regression"
   ]
  },
  {
   "cell_type": "markdown",
   "metadata": {},
   "source": [
    "Let's first apply a simple linear regression by scikit learn and see the baseline results and try using deep learning library to see if we can beat those results.\n"
   ]
  },
  {
   "cell_type": "code",
   "execution_count": 55,
   "metadata": {},
   "outputs": [
    {
     "name": "stdout",
     "output_type": "stream",
     "text": [
      "training error 22.9834937317 test_error 20.7471433603\n"
     ]
    }
   ],
   "source": [
    "from sklearn.linear_model import LinearRegression\n",
    "from sklearn.model_selection import train_test_split\n",
    "from sklearn.metrics import mean_squared_error\n",
    "import numpy as np\n",
    "X=data.data\n",
    "y=data.target\n",
    "\n",
    "X_train,X_test,y_train,y_test=train_test_split(X, y, test_size=0.33, random_state=42)\n",
    "model=LinearRegression().fit(X_train,y_train)\n",
    "\n",
    "train_error= mean_squared_error(model.predict(X_train),y_train)\n",
    "test_error= mean_squared_error(model.predict(X_test),y_test)\n",
    "print('training error',train_error,'test_error',test_error)"
   ]
  },
  {
   "cell_type": "markdown",
   "metadata": {},
   "source": [
    "## DeepLearning"
   ]
  },
  {
   "cell_type": "markdown",
   "metadata": {},
   "source": [
    "RMSE being the evaluation criteria"
   ]
  },
  {
   "cell_type": "code",
   "execution_count": 179,
   "metadata": {},
   "outputs": [
    {
     "data": {
      "text/plain": [
       "506"
      ]
     },
     "execution_count": 179,
     "metadata": {},
     "output_type": "execute_result"
    }
   ],
   "source": [
    "def inv_y(a): return np.exp(a)\n",
    "\n",
    "def exp_rmspe(y_pred, targ):\n",
    "    targ = inv_y(targ)\n",
    "    pct_var = (targ - inv_y(y_pred))/targ\n",
    "    return math.sqrt((pct_var**2).mean())\n",
    "\n",
    "len(data.target.astype(np.float32))"
   ]
  },
  {
   "cell_type": "markdown",
   "metadata": {},
   "source": [
    "Boston Dataset with chas being the categorical attribute"
   ]
  },
  {
   "cell_type": "code",
   "execution_count": 190,
   "metadata": {},
   "outputs": [
    {
     "name": "stdout",
     "output_type": "stream",
     "text": [
      "      CRIM    ZN  INDUS  CHAS    NOX     RM   AGE     DIS  RAD    TAX  \\\n",
      "0  0.00632  18.0   2.31   0.0  0.538  6.575  65.2  4.0900  1.0  296.0   \n",
      "1  0.02731   0.0   7.07   0.0  0.469  6.421  78.9  4.9671  2.0  242.0   \n",
      "2  0.02729   0.0   7.07   0.0  0.469  7.185  61.1  4.9671  2.0  242.0   \n",
      "3  0.03237   0.0   2.18   0.0  0.458  6.998  45.8  6.0622  3.0  222.0   \n",
      "4  0.06905   0.0   2.18   0.0  0.458  7.147  54.2  6.0622  3.0  222.0   \n",
      "\n",
      "   PTRATIO       B  LSTAT  \n",
      "0     15.3  396.90   4.98  \n",
      "1     17.8  396.90   9.14  \n",
      "2     17.8  392.83   4.03  \n",
      "3     18.7  394.63   2.94  \n",
      "4     18.7  396.90   5.33  \n"
     ]
    }
   ],
   "source": [
    "print(dl_data.head())"
   ]
  },
  {
   "cell_type": "markdown",
   "metadata": {},
   "source": [
    "Cross Validation Indexes should be choosed randomly from the dataset "
   ]
  },
  {
   "cell_type": "code",
   "execution_count": 196,
   "metadata": {},
   "outputs": [],
   "source": [
    "import random\n",
    "validation_indexes=random.sample(range(0,len(data.data)),math.floor (len(data.data)/4))\n",
    "dl_data=pd.DataFrame(data.data,columns=data.feature_names)"
   ]
  },
  {
   "cell_type": "markdown",
   "metadata": {},
   "source": [
    "Loads the columnar data with categorical values <br>\n",
    "<b>PATH</b> -             all intermediate model or temp will be stored. make sure its empty. <br>\n",
    "<b>validation_index</b> - indexes with validation_indexes will be used for validation<br>\n",
    "<b>dl_data </b>-          dataframe to train<br>\n",
    "<b>data.target </b>-      label <br>\n",
    "<b>cat_flds</b> -         categorocial attributes<br>\n",
    "<b>bs </b>                batch size for stochastic gradient descent<br>"
   ]
  },
  {
   "cell_type": "code",
   "execution_count": 197,
   "metadata": {},
   "outputs": [],
   "source": [
    "model=ColumnarModelData.from_data_frame(PATH,validation_indexes,dl_data,data.target.astype(np.float32),cat_flds=['CHAS'],bs=2)"
   ]
  },
  {
   "cell_type": "markdown",
   "metadata": {},
   "source": [
    "<b>embd for categorical attributes and their mapping like for (100 categories map -> 10)</b> -             Embedding <br>\n",
    "<b>number_of_non_categorical_value</b> - number of non_categorical_values<br>\n",
    "<b>layers </b>-           Number of hidden layers in sequence<br>\n",
    "<b>drop_outs </b>-     Dropouts for each hidden layer <br>"
   ]
  },
  {
   "cell_type": "code",
   "execution_count": 198,
   "metadata": {},
   "outputs": [],
   "source": [
    "embd=[(2,1)]\n",
    "number_of_non_categorical_value=12\n",
    "layers=[500]\n",
    "drop_outs=[0.01]\n",
    "model=model.get_learner(embd,number_of_non_categorical_value, 0.04, 1, layers,drop_outs)"
   ]
  },
  {
   "cell_type": "markdown",
   "metadata": {},
   "source": [
    "This is new so take a breath. Hyperparameter tuning: Learning rate. Fast Ai runs a sample of algorithm with learning rate growing very fast. So we run the same training algorithm not to optimize the loss but to find the learning rate. Would be in seconds. Plotting the graph we can find the perfect learning rate and use that. Kudos FastAI!  "
   ]
  },
  {
   "cell_type": "code",
   "execution_count": 184,
   "metadata": {},
   "outputs": [
    {
     "data": {
      "application/vnd.jupyter.widget-view+json": {
       "model_id": "b8a167a887d64820862609e09f9933d6",
       "version_major": 2,
       "version_minor": 0
      },
      "text/html": [
       "<p>Failed to display Jupyter Widget of type <code>HBox</code>.</p>\n",
       "<p>\n",
       "  If you're reading this message in the Jupyter Notebook or JupyterLab Notebook, it may mean\n",
       "  that the widgets JavaScript is still loading. If this message persists, it\n",
       "  likely means that the widgets JavaScript library is either not installed or\n",
       "  not enabled. See the <a href=\"https://ipywidgets.readthedocs.io/en/stable/user_install.html\">Jupyter\n",
       "  Widgets Documentation</a> for setup instructions.\n",
       "</p>\n",
       "<p>\n",
       "  If you're reading this message in another frontend (for example, a static\n",
       "  rendering on GitHub or <a href=\"https://nbviewer.jupyter.org/\">NBViewer</a>),\n",
       "  it may mean that your frontend doesn't currently support widgets.\n",
       "</p>\n"
      ],
      "text/plain": [
       "HBox(children=(IntProgress(value=0, description='Epoch', max=1), HTML(value='')))"
      ]
     },
     "metadata": {},
     "output_type": "display_data"
    },
    {
     "name": "stdout",
     "output_type": "stream",
     "text": [
      " 66%|██████▌   | 125/190 [00:00<00:00, 282.90it/s, loss=1.31e+04]\n",
      "                                                                 \r"
     ]
    }
   ],
   "source": [
    "model.lr_find()"
   ]
  },
  {
   "cell_type": "code",
   "execution_count": 163,
   "metadata": {},
   "outputs": [
    {
     "data": {
      "image/png": "[encoded data removed]",
      "text/plain": [
       "<matplotlib.figure.Figure at 0x7f7f893c5c50>"
      ]
     },
     "metadata": {},
     "output_type": "display_data"
    }
   ],
   "source": [
    "model.sched.plot()"
   ]
  },
  {
   "cell_type": "markdown",
   "metadata": {},
   "source": [
    "In the above graph, as you can see clearly that the learning rate after 0.01 increases the loss exponentially, we see that loss turns to be minimum when 10^-1 to 10^-2 somewhere in between. So let's take average and use that as learning rate."
   ]
  },
  {
   "cell_type": "markdown",
   "metadata": {},
   "source": [
    "Run the training Algorithm with learning rate=0.055"
   ]
  },
  {
   "cell_type": "code",
   "execution_count": 170,
   "metadata": {},
   "outputs": [
    {
     "data": {
      "application/vnd.jupyter.widget-view+json": {
       "model_id": "0227bc2411934127baf213b2863f286e",
       "version_major": 2,
       "version_minor": 0
      },
      "text/html": [
       "<p>Failed to display Jupyter Widget of type <code>HBox</code>.</p>\n",
       "<p>\n",
       "  If you're reading this message in the Jupyter Notebook or JupyterLab Notebook, it may mean\n",
       "  that the widgets JavaScript is still loading. If this message persists, it\n",
       "  likely means that the widgets JavaScript library is either not installed or\n",
       "  not enabled. See the <a href=\"https://ipywidgets.readthedocs.io/en/stable/user_install.html\">Jupyter\n",
       "  Widgets Documentation</a> for setup instructions.\n",
       "</p>\n",
       "<p>\n",
       "  If you're reading this message in another frontend (for example, a static\n",
       "  rendering on GitHub or <a href=\"https://nbviewer.jupyter.org/\">NBViewer</a>),\n",
       "  it may mean that your frontend doesn't currently support widgets.\n",
       "</p>\n"
      ],
      "text/plain": [
       "HBox(children=(IntProgress(value=0, description='Epoch', max=10), HTML(value='')))"
      ]
     },
     "metadata": {},
     "output_type": "display_data"
    },
    {
     "name": "stdout",
     "output_type": "stream",
     "text": [
      "[    0.       2851.906     108.26713]                            \n",
      "[   1.       141.87092   74.62755]                              \n",
      "[  2.       80.8053   74.09294]                              \n",
      "[  3.       62.1405   48.24689]                              \n",
      "[  4.       72.05487  42.68179]                              \n",
      "[  5.       66.26097  38.59779]                              \n",
      "[  6.       56.03842  51.331  ]                              \n",
      "[  7.       76.14901  53.62796]                              \n",
      "[  8.       62.7081   48.69091]                              \n",
      "[  9.       66.54783  36.87793]                              \n",
      "\n"
     ]
    }
   ],
   "source": [
    "lr = 0.055\n",
    "model.fit(lr, 10)"
   ]
  },
  {
   "cell_type": "code",
   "execution_count": 201,
   "metadata": {},
   "outputs": [
    {
     "data": {
      "application/vnd.jupyter.widget-view+json": {
       "model_id": "740ef2d6727b4b0287b47866c610585d",
       "version_major": 2,
       "version_minor": 0
      },
      "text/html": [
       "<p>Failed to display Jupyter Widget of type <code>HBox</code>.</p>\n",
       "<p>\n",
       "  If you're reading this message in the Jupyter Notebook or JupyterLab Notebook, it may mean\n",
       "  that the widgets JavaScript is still loading. If this message persists, it\n",
       "  likely means that the widgets JavaScript library is either not installed or\n",
       "  not enabled. See the <a href=\"https://ipywidgets.readthedocs.io/en/stable/user_install.html\">Jupyter\n",
       "  Widgets Documentation</a> for setup instructions.\n",
       "</p>\n",
       "<p>\n",
       "  If you're reading this message in another frontend (for example, a static\n",
       "  rendering on GitHub or <a href=\"https://nbviewer.jupyter.org/\">NBViewer</a>),\n",
       "  it may mean that your frontend doesn't currently support widgets.\n",
       "</p>\n"
      ],
      "text/plain": [
       "HBox(children=(IntProgress(value=0, description='Epoch', max=10), HTML(value='')))"
      ]
     },
     "metadata": {},
     "output_type": "display_data"
    },
    {
     "name": "stdout",
     "output_type": "stream",
     "text": [
      "[    0.       3161.95849   250.97244]                            \n",
      "[   1.       175.02604   58.23714]                              \n",
      "[   2.       143.91199  121.4847 ]                           \n",
      "[   3.       100.64932   56.82617]                           \n",
      "[   4.       100.48409  306.14642]                           \n",
      "[  5.       54.53278  51.57714]                              \n",
      "[  6.       62.98428  49.65561]                              \n",
      "[   7.       107.00727  137.59152]                           \n",
      "[  8.       50.99336  41.78915]                              \n",
      "[  9.       58.22794  43.40128]                              \n",
      "\n"
     ]
    }
   ],
   "source": [
    "lr = 0.055\n",
    "model.fit(lr, 10)"
   ]
  },
  {
   "cell_type": "markdown",
   "metadata": {},
   "source": [
    "Quite Impressive! Without any tuning, we achieved accuracy of 36.877 which is still bad as compared to linear regression. Note for this tutorial. Our goal is to learn and not optimize for the best accuracy.<br>\n",
    "Let's see what can we do further."
   ]
  },
  {
   "cell_type": "markdown",
   "metadata": {},
   "source": [
    "There is onr problem with learning rate: As we get closer to the minima we should dynamically change the learning rate to slow down as we are approaching the bottom as we might skip the minima.\n",
    "    But also, we dont want it to get stuck at local minima and sway away from a better solution if possible. \n",
    "    we come up with a solution so that we repeat the training process with lr=0.05 and keep decreasing for X number of cycles then reinitalize our lerarning rate to be \n",
    "    0.05 so that we can explore for other minimas too.\n",
    "   <b>Cycle_len</b>=3 means repeat 10 cycles 3 times."
   ]
  },
  {
   "cell_type": "markdown",
   "metadata": {},
   "source": [
    "As you see the learning rate keeps decreasing and then suddenly jumps up. Let's see if this gives us any better results"
   ]
  },
  {
   "cell_type": "code",
   "execution_count": 175,
   "metadata": {},
   "outputs": [
    {
     "data": {
      "image/png": "[encoded data removed]",
      "text/plain": [
       "<matplotlib.figure.Figure at 0x7f7f826839b0>"
      ]
     },
     "metadata": {},
     "output_type": "display_data"
    }
   ],
   "source": [
    "model.sched.plot_lr()"
   ]
  },
  {
   "cell_type": "code",
   "execution_count": 202,
   "metadata": {},
   "outputs": [
    {
     "name": "stdout",
     "output_type": "stream",
     "text": [
      "[ 14.       26.19841  29.11098]                              \n",
      "[ 15.       26.13135  25.84457]                              \n",
      "[ 16.       34.23843  39.32041]                              \n",
      "[ 17.       45.23869  43.52927]                              \n",
      "[ 18.       36.31802  28.51469]                              \n",
      "[ 19.       24.40752  24.15434]                              \n",
      "[ 20.       93.52787  98.36993]                              \n",
      "[ 21.       76.76582  90.19366]                              \n",
      "[ 22.       96.38318  89.78685]                              \n",
      "[ 23.       78.99907  89.70096]                              \n",
      "[ 24.      74.8405  89.2742]                                 \n",
      "[ 25.       66.09479  88.88304]                              \n",
      "[ 26.       76.044    88.72765]                              \n",
      "[ 27.       78.88459  88.64732]                              \n",
      "[ 28.       82.5089   88.76509]                              \n",
      "[ 29.       96.25265  88.98195]                              \n",
      "[ 30.       89.17433  88.90871]                              \n",
      "[ 31.       87.93463  88.77647]                              \n",
      "[ 32.       99.30406  88.21326]                              \n",
      "[ 33.       89.47387  88.58575]                              \n",
      "[ 34.       87.69512  88.41162]                              \n",
      "[ 35.       92.32717  88.46887]                              \n",
      "[ 36.       78.08824  88.70508]                              \n",
      "[ 37.       87.96055  88.55913]                              \n",
      "[ 38.       98.32275  88.58079]                              \n",
      "[ 39.       74.67167  88.54105]                              \n",
      "[ 40.       77.59222  88.41911]                              \n",
      "[ 41.       90.92798  88.61746]                              \n",
      "[ 42.       91.45523  88.58055]                              \n",
      "[ 43.       93.08238  88.50362]                              \n",
      "[ 44.       76.94329  88.33128]                              \n",
      "[ 45.       83.83884  88.59381]                              \n",
      "[ 46.       87.79986  88.56339]                              \n",
      "[ 47.       96.46752  88.48431]                              \n",
      "[ 48.       74.22414  88.30722]                              \n",
      "[ 49.       83.96093  88.68872]                              \n",
      "[ 50.       95.91294  88.69501]                              \n",
      "[ 51.       76.14745  88.5813 ]                              \n",
      "[ 52.       78.41558  88.32252]                              \n",
      "[ 53.       67.72093  88.64788]                              \n",
      "[ 54.       82.1607   88.76482]                              \n",
      "[ 55.       86.33243  88.73027]                              \n",
      "[ 56.       83.7271   88.48898]                              \n",
      "[ 57.       87.47591  88.54156]                              \n",
      "[ 58.       69.75239  88.35446]                              \n",
      "[ 59.       88.54013  88.33215]                              \n",
      "\n"
     ]
    }
   ],
   "source": []
  },
  {
   "cell_type": "code",
   "execution_count": 171,
   "metadata": {},
   "outputs": [
    {
     "data": {
      "application/vnd.jupyter.widget-view+json": {
       "model_id": "36b8e35571a34f29872daeb5ab25501c",
       "version_major": 2,
       "version_minor": 0
      },
      "text/html": [
       "<p>Failed to display Jupyter Widget of type <code>HBox</code>.</p>\n",
       "<p>\n",
       "  If you're reading this message in the Jupyter Notebook or JupyterLab Notebook, it may mean\n",
       "  that the widgets JavaScript is still loading. If this message persists, it\n",
       "  likely means that the widgets JavaScript library is either not installed or\n",
       "  not enabled. See the <a href=\"https://ipywidgets.readthedocs.io/en/stable/user_install.html\">Jupyter\n",
       "  Widgets Documentation</a> for setup instructions.\n",
       "</p>\n",
       "<p>\n",
       "  If you're reading this message in another frontend (for example, a static\n",
       "  rendering on GitHub or <a href=\"https://nbviewer.jupyter.org/\">NBViewer</a>),\n",
       "  it may mean that your frontend doesn't currently support widgets.\n",
       "</p>\n"
      ],
      "text/plain": [
       "HBox(children=(IntProgress(value=0, description='Epoch', max=30), HTML(value='')))"
      ]
     },
     "metadata": {},
     "output_type": "display_data"
    },
    {
     "name": "stdout",
     "output_type": "stream",
     "text": [
      "[   0.       180.57534   62.10049]                          \n",
      "[  1.       83.37878  62.3999 ]                              \n",
      "[  2.       55.49154  54.9498 ]                              \n",
      "[  3.       75.46293  53.33086]                              \n",
      "[  4.       53.62135  39.90169]                              \n",
      "[  5.       42.08134  38.87128]                              \n",
      "[  6.       48.64498  53.91854]                              \n",
      "[  7.       40.48751  31.60863]                              \n",
      "[  8.       34.10004  27.93206]                              \n",
      "[  9.       96.70617  31.44825]                              \n",
      "[ 10.       50.85496  35.57478]                              \n",
      "[ 11.       30.64704  25.51137]                              \n",
      "[ 12.       42.23597  26.2089 ]                              \n",
      "[ 13.       39.26633  51.34911]                              \n",
      "[ 14.       26.69403  22.45991]                              \n",
      "[ 15.       41.2912   29.34616]                              \n",
      "[ 16.       36.38946  22.12777]                              \n",
      "[ 17.       26.93833  19.91111]                              \n",
      "[ 18.       47.19999  31.84199]                              \n",
      "[ 19.       40.45223  19.72345]                              \n",
      "[ 20.       35.95544  19.39541]                              \n",
      "[ 21.       27.79003  19.63288]                              \n",
      "[ 22.       38.93086  22.55372]                              \n",
      "[ 23.       24.2901   18.49149]                              \n",
      "[ 24.       43.61303  38.82179]                              \n",
      "[ 25.       43.32276  19.44667]                              \n",
      "[ 26.       27.38696  18.91724]                              \n",
      "[ 27.       39.65891  24.07587]                              \n",
      "[ 28.       31.019    21.41448]                              \n",
      "[ 29.       24.82787  20.38755]                              \n",
      "\n"
     ]
    }
   ],
   "source": [
    "lr = 0.055\n",
    "model.fit(lr, 10,cycle_len=3)"
   ]
  },
  {
   "cell_type": "markdown",
   "metadata": {},
   "source": [
    "Kudos! Wow! we get better than linear regression!"
   ]
  },
  {
   "cell_type": "code",
   "execution_count": 188,
   "metadata": {},
   "outputs": [
    {
     "data": {
      "image/png": "[encoded data removed]",
      "text/plain": [
       "<matplotlib.figure.Figure at 0x7f7f82fddbe0>"
      ]
     },
     "metadata": {},
     "output_type": "display_data"
    }
   ],
   "source": [
    "model.sched.plot_loss()"
   ]
  },
  {
   "cell_type": "markdown",
   "metadata": {},
   "source": [
    "model"
   ]
  },
  {
   "cell_type": "code",
   "execution_count": null,
   "metadata": {},
   "outputs": [],
   "source": []
  },
  {
   "cell_type": "code",
   "execution_count": null,
   "metadata": {},
   "outputs": [],
   "source": []
  },
  {
   "cell_type": "code",
   "execution_count": null,
   "metadata": {},
   "outputs": [],
   "source": []
  }
 ],
 "metadata": {
  "kernelspec": {
   "display_name": "Python 3",
   "language": "python",
   "name": "python3"
  },
  "language_info": {
   "codemirror_mode": {
    "name": "ipython",
    "version": 3
   },
   "file_extension": ".py",
   "mimetype": "text/x-python",
   "name": "python",
   "nbconvert_exporter": "python",
   "pygments_lexer": "ipython3",
   "version": "3.6.4"
  }
 },
 "nbformat": 4,
 "nbformat_minor": 2
}
